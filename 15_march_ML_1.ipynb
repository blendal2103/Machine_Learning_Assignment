{
 "cells": [
  {
   "cell_type": "markdown",
   "metadata": {},
   "source": [
    "Explain the following with Example.\n",
    "1. **Artificial Intelligence** : Artificial Intelligence is the field of computer science focuses on creating machines or computer systems that can perform task that typically require human intelligence.\n",
    "This tasks include learning, reasoning , problem-solving.\n",
    "- _Example_ : Virtual Personal Assistant \n",
    "    A personal assistant like Siri, Google assistant are the best example of AI.\n",
    "2. **Machine Learning** : Machine learning is a subset of artificial Intelligence which basically focuses on the developement of algorithms and statistical model that enables computers to learn from historical data and make predictions or decision based on data.\n",
    "- _Example_ : Email Spam classification :\n",
    "    The automatic classification of mails into spam and not spam categories in Mail Applications.\n",
    "\n",
    "3. **Deep Learning** : Deep Learning is a subset of Machine Learning that focuses on using the neural networks to model and solve the complex problems. Deep learning algorithms inspired by the structure and function of human brain.\n",
    "- _Example_ : Bone Fracture Detection using X_rays\n",
    "    The classification of the X-Ray images of bone into fractured bone or not by trained in some images of fractured and unfractured images. "
   ]
  },
  {
   "cell_type": "markdown",
   "metadata": {},
   "source": [
    "##### Q2- What is Supervised Learning ? List some examples of Supervised learning.\n",
    "\n",
    "**Supervised Learning :** \n",
    "    In supervised Learning we are predicting the output . That is our model is trained on a data with output and from that it is predicting the output .\n",
    "\n",
    "- _Example_ : \n",
    "    Diabetes Detection : A supervised learning model is trained  to classify that the specific person is having diabetes or not.\n"
   ]
  },
  {
   "cell_type": "markdown",
   "metadata": {},
   "source": [
    "##### Q3- What is Unsupervised Learning ? List some examples of Unsupervised learning.\n",
    "\n",
    "**Unsupervised Learning** :\n",
    "    It is a type of machine learning where the algorithm is trained on unlabeled data.\n",
    "    It is aim to discover patterns, structures or relationships within data on their own.\n",
    "\n",
    "- _Example_ : Customer Segementation \n",
    "    Businesses can use unsupervised learning to group customer with similar purchasing behaviour. This is very useful in recommendation systems.\n",
    "    "
   ]
  },
  {
   "cell_type": "markdown",
   "metadata": {},
   "source": [
    "##### Q-4 What is the difference between AI, ML, DL and DS ?\n",
    "\n",
    "1. **Artificial Intelligence :**\n",
    "    AI is a field of Computer Science which primarily focuses on developing the machines or computer programs which mimic the humans.\n",
    "2. **Machine Learning :**\n",
    "    ML is a subset of AI primarily focuses on a developement of algorithms and models that can learn from data and make predictions or decisions without being explicitly programmed.\n",
    "3. **Deep Learning :**\n",
    "    DL is a subfield of ML that emphasizes use of neural networks to solve the complex problems especially when dealing with large volume of a data,\n",
    "4. **Data Science  :**\n",
    "    DS primarily focuses on various techniques for data analysis including statistical analysis, data visualization, data cleaning and machine learning with aim of extracting the insights of the data,"
   ]
  },
  {
   "cell_type": "markdown",
   "metadata": {},
   "source": [
    "##### Q-5  What are the main differences between supervised, unsupervised, and semi-supervised learning ?\n",
    "\n",
    "1. **Supervised Learning** :\n",
    "    Supervised learning is a type of machine learning  where the algorithm is trained on a labeled dataset, which means that each data point in the training set is paired with a corresponding target or label.\n",
    "    Examples include classification and regression.\n",
    "\n",
    "2. **Unsupervised Learning** :\n",
    "    Unsupervised learning is a type of machine learning where the algorithm is given a dataset without explicit labels or targets. Instead it must discover patterns ,structures, or relationships within the data.\n",
    "    Example include clustering algorithms like K-means and Dimensionality reduction techniques like PCA.\n",
    "\n",
    "3. **Semi-Supervised Learning** :\n",
    "    Semi-supervised learning is a hybrid approach that combines elements of both supervised and unsupervised learning. It leverages a dataset that contains both labeled and unlabeled datapoints.\n",
    "    The primary goal of semi-supervised learning is to use the limited labeled data along with the unlabeled data to improve the model's performance.\n",
    "\n"
   ]
  },
  {
   "cell_type": "markdown",
   "metadata": {},
   "source": [
    "##### Q6- What is train, test and validation split? Explain the importance of each term.\n",
    "\n",
    "1. **Train Data** : \n",
    "\n",
    "    The training set is a portion of dataset used to train the machine learning model. It contains labeled examples where both input features and their corresponding target or output values are provided.\n",
    "    Its primary importance is to enable the model to learn from historical data and genralize it's knowledge to make predictions on unseen data.\n",
    "\n",
    "\n",
    "2. **Test data** :\n",
    "    The test set is a seprate portion of the dataset that is not used during the training  process. It is kept aside for the  purpose of evaluating the model's performance.\n",
    "    The test helps estimate how well the model will perform in real world scenarios.\n",
    "\n",
    "3. **Validation Data** :\n",
    "     The validation set is an additional subset of the dataset used primarily during the model developement phase, particularly for hyperparameter tunning and model selection.\n",
    "     The validation set is essential for preventing the overfitting to the training data.\n",
    "     \n",
    "\n"
   ]
  },
  {
   "cell_type": "markdown",
   "metadata": {},
   "source": [
    "##### Q-7 How can unsupervised learning be used in anomaly detection?\n",
    "\n",
    "Unsupervised learning is valuable technique for anamoly detection because it does not rely on labeled data.\n",
    "There are several types of Unsupervised learning algorithms  which helps us for anamoly detection :\n",
    "\n",
    "1. Clustering-Based Anamoly detection :\n",
    "    It invloves grouping similar data points into cluster. Anamolies are then identified as data points that do not belong to any cluster or belong to a cluster who have few memebers.\n",
    "\n",
    "2. Density-Based Algorithms :\n",
    "    Data points with significantly lower probabilty densities are considered as anomalies because they are located in a regions of the data space with low data density.\n",
    "\n",
    "3. Principal Component Analysis :\n",
    "    PCA is used to reduce the dimensionality of the data while preserving as much variance as possible. Anamolies are often found in the directions of low-variance principal components, as they deviate the significantly from the norm.\n",
    "    "
   ]
  },
  {
   "cell_type": "markdown",
   "metadata": {},
   "source": [
    "##### Q8- List down some commonly used supervised learning algorithms and unsupervised learning algorithms.\n",
    "\n",
    "**Supervised Learning Algorithms :**\n",
    "\n",
    "1. Linear regression\n",
    "2. Logistic Regression\n",
    "3. Decision Trees\n",
    "4. Random Forest\n",
    "5. Support Vector Machines\n",
    "6. K-nearest Neighbours\n",
    "7. Naive Bayes\n",
    "8. Neural Networks\n",
    "\n",
    "**Unsupervised Learning Algorithms :**\n",
    "1. K-means Clustering\n",
    "2. Hierarchical Clustering\n",
    "3. DBSCAN \n",
    "4. Principle Component Analysis "
   ]
  },
  {
   "cell_type": "code",
   "execution_count": null,
   "metadata": {},
   "outputs": [],
   "source": []
  },
  {
   "cell_type": "code",
   "execution_count": null,
   "metadata": {},
   "outputs": [],
   "source": []
  }
 ],
 "metadata": {
  "language_info": {
   "name": "python"
  },
  "orig_nbformat": 4
 },
 "nbformat": 4,
 "nbformat_minor": 2
}
